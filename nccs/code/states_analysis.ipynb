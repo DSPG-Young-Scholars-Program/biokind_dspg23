{
 "cells": [
  {
   "cell_type": "markdown",
   "id": "394bddb6",
   "metadata": {},
   "source": [
    "examining trends on a state-by-state basis\n",
    "\n",
    "includes territories as of right now, but should consider if these should remain in or not"
   ]
  },
  {
   "cell_type": "code",
   "execution_count": 152,
   "id": "6b469236",
   "metadata": {},
   "outputs": [],
   "source": [
    "import pandas as pd\n",
    "from tabulate import tabulate\n",
    "import matplotlib.pyplot as plt"
   ]
  },
  {
   "cell_type": "code",
   "execution_count": 99,
   "id": "2d657083",
   "metadata": {},
   "outputs": [
    {
     "data": {
      "text/plain": [
       "EIN            0\n",
       "FISYR          0\n",
       "NAME          30\n",
       "STATE          0\n",
       "NTEE1          0\n",
       "ADDRESS       64\n",
       "CITY          62\n",
       "ZIP         7439\n",
       "SUBSECCD       0\n",
       "NTMAJ5         0\n",
       "NTMAJ10        0\n",
       "NTMAJ12        0\n",
       "MAJGRPB        0\n",
       "CONT           0\n",
       "dtype: int64"
      ]
     },
     "execution_count": 99,
     "metadata": {},
     "output_type": "execute_result"
    }
   ],
   "source": [
    "df = pd.read_csv(\"../data/distribution/merged_filtered.csv\")\n",
    "\n",
    "# remove foreign\n",
    "df = df[(df['STATE'].isna() == False) & (df['STATE'] != 'FO')]\n",
    "\n",
    "df.isna().sum()"
   ]
  },
  {
   "cell_type": "code",
   "execution_count": 117,
   "id": "c6dfea75",
   "metadata": {},
   "outputs": [
    {
     "name": "stdout",
     "output_type": "stream",
     "text": [
      "['AK', 'AL', 'AR', 'AS', 'AZ', 'CA', 'CO', 'CT', 'DC', 'DE', 'FL', 'FM', 'GA', 'GU', 'HI', 'IA', 'ID', 'IL', 'IN', 'KS', 'KY', 'LA', 'MA', 'MD', 'ME', 'MH', 'MI', 'MN', 'MO', 'MP', 'MS', 'MT', 'NC', 'ND', 'NE', 'NH', 'NJ', 'NM', 'NV', 'NY', 'OH', 'OK', 'OR', 'PA', 'PR', 'RI', 'SC', 'SD', 'TN', 'TX', 'UT', 'VA', 'VI', 'VT', 'WA', 'WI', 'WV', 'WY']\n"
     ]
    }
   ],
   "source": [
    "states = df['STATE'].unique().tolist()\n",
    "states.sort()\n",
    "\n",
    "print(states)"
   ]
  },
  {
   "cell_type": "code",
   "execution_count": 107,
   "id": "7899b380",
   "metadata": {},
   "outputs": [],
   "source": [
    "no_outliers = None\n",
    "\n",
    "# for each state\n",
    "for state in states:\n",
    "    st_df = df[df['STATE'] == state]\n",
    "    \n",
    "    # find outliers\n",
    "    q1 = st_df['CONT'].quantile(0.25)\n",
    "    q3 = st_df['CONT'].quantile(0.75)\n",
    "    iqr = q3 - q1\n",
    "    high = q3 + 1.5 * iqr\n",
    "    \n",
    "\n",
    "    # remove outliers\n",
    "    st_df = st_df[st_df['CONT'] < high]\n",
    "    \n",
    "    no_outliers = pd.concat([no_outliers, st_df])"
   ]
  },
  {
   "cell_type": "code",
   "execution_count": 87,
   "id": "8aaaeff0",
   "metadata": {},
   "outputs": [
    {
     "data": {
      "text/html": [
       "<div>\n",
       "<style scoped>\n",
       "    .dataframe tbody tr th:only-of-type {\n",
       "        vertical-align: middle;\n",
       "    }\n",
       "\n",
       "    .dataframe tbody tr th {\n",
       "        vertical-align: top;\n",
       "    }\n",
       "\n",
       "    .dataframe thead th {\n",
       "        text-align: right;\n",
       "    }\n",
       "</style>\n",
       "<table border=\"1\" class=\"dataframe\">\n",
       "  <thead>\n",
       "    <tr style=\"text-align: right;\">\n",
       "      <th></th>\n",
       "      <th>EIN</th>\n",
       "      <th>FISYR</th>\n",
       "      <th>SUBSECCD</th>\n",
       "      <th>CONT</th>\n",
       "    </tr>\n",
       "  </thead>\n",
       "  <tbody>\n",
       "    <tr>\n",
       "      <th>count</th>\n",
       "      <td>4.327050e+05</td>\n",
       "      <td>432705.000000</td>\n",
       "      <td>432705.0</td>\n",
       "      <td>4.327050e+05</td>\n",
       "    </tr>\n",
       "    <tr>\n",
       "      <th>mean</th>\n",
       "      <td>4.246004e+08</td>\n",
       "      <td>2011.521399</td>\n",
       "      <td>3.0</td>\n",
       "      <td>1.942644e+06</td>\n",
       "    </tr>\n",
       "    <tr>\n",
       "      <th>std</th>\n",
       "      <td>2.593163e+08</td>\n",
       "      <td>6.079453</td>\n",
       "      <td>0.0</td>\n",
       "      <td>2.588015e+07</td>\n",
       "    </tr>\n",
       "    <tr>\n",
       "      <th>min</th>\n",
       "      <td>1.007806e+07</td>\n",
       "      <td>1998.000000</td>\n",
       "      <td>3.0</td>\n",
       "      <td>1.000000e+00</td>\n",
       "    </tr>\n",
       "    <tr>\n",
       "      <th>25%</th>\n",
       "      <td>2.260691e+08</td>\n",
       "      <td>2005.000000</td>\n",
       "      <td>3.0</td>\n",
       "      <td>3.073500e+04</td>\n",
       "    </tr>\n",
       "    <tr>\n",
       "      <th>50%</th>\n",
       "      <td>3.826046e+08</td>\n",
       "      <td>2014.000000</td>\n",
       "      <td>3.0</td>\n",
       "      <td>1.317340e+05</td>\n",
       "    </tr>\n",
       "    <tr>\n",
       "      <th>75%</th>\n",
       "      <td>5.919053e+08</td>\n",
       "      <td>2017.000000</td>\n",
       "      <td>3.0</td>\n",
       "      <td>6.421970e+05</td>\n",
       "    </tr>\n",
       "    <tr>\n",
       "      <th>max</th>\n",
       "      <td>9.960157e+08</td>\n",
       "      <td>2020.000000</td>\n",
       "      <td>3.0</td>\n",
       "      <td>9.265120e+09</td>\n",
       "    </tr>\n",
       "  </tbody>\n",
       "</table>\n",
       "</div>"
      ],
      "text/plain": [
       "                EIN          FISYR  SUBSECCD          CONT\n",
       "count  4.327050e+05  432705.000000  432705.0  4.327050e+05\n",
       "mean   4.246004e+08    2011.521399       3.0  1.942644e+06\n",
       "std    2.593163e+08       6.079453       0.0  2.588015e+07\n",
       "min    1.007806e+07    1998.000000       3.0  1.000000e+00\n",
       "25%    2.260691e+08    2005.000000       3.0  3.073500e+04\n",
       "50%    3.826046e+08    2014.000000       3.0  1.317340e+05\n",
       "75%    5.919053e+08    2017.000000       3.0  6.421970e+05\n",
       "max    9.960157e+08    2020.000000       3.0  9.265120e+09"
      ]
     },
     "execution_count": 87,
     "metadata": {},
     "output_type": "execute_result"
    }
   ],
   "source": [
    "df.describe()"
   ]
  },
  {
   "cell_type": "code",
   "execution_count": 86,
   "id": "acb5325a",
   "metadata": {},
   "outputs": [
    {
     "data": {
      "text/html": [
       "<div>\n",
       "<style scoped>\n",
       "    .dataframe tbody tr th:only-of-type {\n",
       "        vertical-align: middle;\n",
       "    }\n",
       "\n",
       "    .dataframe tbody tr th {\n",
       "        vertical-align: top;\n",
       "    }\n",
       "\n",
       "    .dataframe thead th {\n",
       "        text-align: right;\n",
       "    }\n",
       "</style>\n",
       "<table border=\"1\" class=\"dataframe\">\n",
       "  <thead>\n",
       "    <tr style=\"text-align: right;\">\n",
       "      <th></th>\n",
       "      <th>EIN</th>\n",
       "      <th>FISYR</th>\n",
       "      <th>SUBSECCD</th>\n",
       "      <th>CONT</th>\n",
       "    </tr>\n",
       "  </thead>\n",
       "  <tbody>\n",
       "    <tr>\n",
       "      <th>count</th>\n",
       "      <td>3.701600e+05</td>\n",
       "      <td>370160.000000</td>\n",
       "      <td>370160.0</td>\n",
       "      <td>3.701600e+05</td>\n",
       "    </tr>\n",
       "    <tr>\n",
       "      <th>mean</th>\n",
       "      <td>4.209255e+08</td>\n",
       "      <td>2011.432248</td>\n",
       "      <td>3.0</td>\n",
       "      <td>2.499661e+05</td>\n",
       "    </tr>\n",
       "    <tr>\n",
       "      <th>std</th>\n",
       "      <td>2.563857e+08</td>\n",
       "      <td>6.089164</td>\n",
       "      <td>0.0</td>\n",
       "      <td>3.795651e+05</td>\n",
       "    </tr>\n",
       "    <tr>\n",
       "      <th>min</th>\n",
       "      <td>1.007806e+07</td>\n",
       "      <td>1998.000000</td>\n",
       "      <td>3.0</td>\n",
       "      <td>1.000000e+00</td>\n",
       "    </tr>\n",
       "    <tr>\n",
       "      <th>25%</th>\n",
       "      <td>2.260600e+08</td>\n",
       "      <td>2005.000000</td>\n",
       "      <td>3.0</td>\n",
       "      <td>2.384000e+04</td>\n",
       "    </tr>\n",
       "    <tr>\n",
       "      <th>50%</th>\n",
       "      <td>3.821135e+08</td>\n",
       "      <td>2014.000000</td>\n",
       "      <td>3.0</td>\n",
       "      <td>8.841100e+04</td>\n",
       "    </tr>\n",
       "    <tr>\n",
       "      <th>75%</th>\n",
       "      <td>5.825151e+08</td>\n",
       "      <td>2017.000000</td>\n",
       "      <td>3.0</td>\n",
       "      <td>3.078912e+05</td>\n",
       "    </tr>\n",
       "    <tr>\n",
       "      <th>max</th>\n",
       "      <td>9.960157e+08</td>\n",
       "      <td>2020.000000</td>\n",
       "      <td>3.0</td>\n",
       "      <td>4.718311e+06</td>\n",
       "    </tr>\n",
       "  </tbody>\n",
       "</table>\n",
       "</div>"
      ],
      "text/plain": [
       "                EIN          FISYR  SUBSECCD          CONT\n",
       "count  3.701600e+05  370160.000000  370160.0  3.701600e+05\n",
       "mean   4.209255e+08    2011.432248       3.0  2.499661e+05\n",
       "std    2.563857e+08       6.089164       0.0  3.795651e+05\n",
       "min    1.007806e+07    1998.000000       3.0  1.000000e+00\n",
       "25%    2.260600e+08    2005.000000       3.0  2.384000e+04\n",
       "50%    3.821135e+08    2014.000000       3.0  8.841100e+04\n",
       "75%    5.825151e+08    2017.000000       3.0  3.078912e+05\n",
       "max    9.960157e+08    2020.000000       3.0  4.718311e+06"
      ]
     },
     "execution_count": 86,
     "metadata": {},
     "output_type": "execute_result"
    }
   ],
   "source": [
    "no_outliers.describe()"
   ]
  },
  {
   "cell_type": "code",
   "execution_count": 150,
   "id": "f925fe62",
   "metadata": {},
   "outputs": [
    {
     "name": "stdout",
     "output_type": "stream",
     "text": [
      "dataset    contains outliers                mean    median          max\n",
      "---------  -------------------  ----------------  --------  -----------\n",
      "full       yes                       1.94264e+06    131734  9.26512e+09\n",
      "full       no                   249966               88411  4.71831e+06\n",
      "TN         yes                       3.47343e+06    132038  1.66719e+09\n",
      "TN         no                   214820               91484  1.35176e+06\n",
      "MA         yes                       5.40678e+06    109536  9.26512e+09\n",
      "MA         no                   224139               69718  1.62807e+06\n"
     ]
    }
   ],
   "source": [
    "ma_orig = df[df['STATE'] == 'MA']\n",
    "tn_orig = df[df['STATE'] == 'TN']\n",
    "\n",
    "ma = no_outliers[no_outliers['STATE'] == 'MA']\n",
    "tn = no_outliers[no_outliers['STATE'] == 'TN']\n",
    "\n",
    "head = ['dataset', 'contains outliers', 'mean', 'median', 'max']\n",
    "table = [['full', 'yes', df['CONT'].mean(), df['CONT'].median(), df['CONT'].max()], \n",
    "         ['full', 'no', no_outliers['CONT'].mean(), no_outliers['CONT'].median(), no_outliers['CONT'].max()], \n",
    "        ['TN', 'yes', tn_orig['CONT'].mean(), tn_orig['CONT'].median(), tn_orig['CONT'].max()], \n",
    "         ['TN', 'no', tn['CONT'].mean(), tn['CONT'].median(), tn['CONT'].max()],\n",
    "        ['MA', 'yes', ma_orig['CONT'].mean(), ma_orig['CONT'].median(), ma_orig['CONT'].max()], \n",
    "         ['MA', 'no', ma['CONT'].mean(), ma['CONT'].median(), ma['CONT'].max()]]\n",
    "\n",
    "print(tabulate(table, headers=head))"
   ]
  },
  {
   "cell_type": "code",
   "execution_count": 155,
   "id": "3a77a979",
   "metadata": {},
   "outputs": [
    {
     "data": {
      "image/png": "[encoded data removed]",
      "text/plain": [
       "<Figure size 432x288 with 1 Axes>"
      ]
     },
     "metadata": {
      "needs_background": "light"
     },
     "output_type": "display_data"
    },
    {
     "data": {
      "text/plain": [
       "<AxesSubplot:title={'center':'Without Outliers'}, ylabel='Density'>"
      ]
     },
     "execution_count": 155,
     "metadata": {},
     "output_type": "execute_result"
    },
    {
     "data": {
      "image/png": "[encoded data removed]",
      "text/plain": [
       "<Figure size 432x288 with 1 Axes>"
      ]
     },
     "metadata": {
      "needs_background": "light"
     },
     "output_type": "display_data"
    }
   ],
   "source": [
    "# distributions - note change from original to filtered\n",
    "df['CONT'].plot(kind='kde', title='Original')\n",
    "plt.show()\n",
    "\n",
    "no_outliers['CONT'].plot(kind='kde', title='Without Outliers')"
   ]
  },
  {
   "cell_type": "code",
   "execution_count": 92,
   "id": "28003a7a",
   "metadata": {},
   "outputs": [
    {
     "data": {
      "text/html": [
       "<div>\n",
       "<style scoped>\n",
       "    .dataframe tbody tr th:only-of-type {\n",
       "        vertical-align: middle;\n",
       "    }\n",
       "\n",
       "    .dataframe tbody tr th {\n",
       "        vertical-align: top;\n",
       "    }\n",
       "\n",
       "    .dataframe thead th {\n",
       "        text-align: right;\n",
       "    }\n",
       "</style>\n",
       "<table border=\"1\" class=\"dataframe\">\n",
       "  <thead>\n",
       "    <tr style=\"text-align: right;\">\n",
       "      <th></th>\n",
       "      <th>EIN</th>\n",
       "      <th>FISYR</th>\n",
       "      <th>NAME</th>\n",
       "      <th>STATE</th>\n",
       "      <th>NTEE1</th>\n",
       "      <th>ADDRESS</th>\n",
       "      <th>CITY</th>\n",
       "      <th>ZIP</th>\n",
       "      <th>SUBSECCD</th>\n",
       "      <th>NTMAJ5</th>\n",
       "      <th>NTMAJ10</th>\n",
       "      <th>NTMAJ12</th>\n",
       "      <th>MAJGRPB</th>\n",
       "      <th>CONT</th>\n",
       "    </tr>\n",
       "  </thead>\n",
       "  <tbody>\n",
       "    <tr>\n",
       "      <th>338488</th>\n",
       "      <td>660430826</td>\n",
       "      <td>2018.0</td>\n",
       "      <td>CENTRO DE SERVICIOS PRIMARIOS DE</td>\n",
       "      <td>PR</td>\n",
       "      <td>E</td>\n",
       "      <td>PO BOX 697</td>\n",
       "      <td>PATILLAS</td>\n",
       "      <td>00723-0697</td>\n",
       "      <td>3.0</td>\n",
       "      <td>HE</td>\n",
       "      <td>HE</td>\n",
       "      <td>HE</td>\n",
       "      <td>E</td>\n",
       "      <td>4671942.0</td>\n",
       "    </tr>\n",
       "    <tr>\n",
       "      <th>338475</th>\n",
       "      <td>660352014</td>\n",
       "      <td>2017.0</td>\n",
       "      <td>HOSPITAL GENERAL DE CASTANER INC</td>\n",
       "      <td>PR</td>\n",
       "      <td>E</td>\n",
       "      <td>PO BOX 1003</td>\n",
       "      <td>CASTANER</td>\n",
       "      <td>00631-1003</td>\n",
       "      <td>3.0</td>\n",
       "      <td>HE</td>\n",
       "      <td>HE</td>\n",
       "      <td>EH</td>\n",
       "      <td>EH</td>\n",
       "      <td>4692288.0</td>\n",
       "    </tr>\n",
       "    <tr>\n",
       "      <th>114095</th>\n",
       "      <td>431131436</td>\n",
       "      <td>2005.0</td>\n",
       "      <td>LUPUS FOUNDATION OF AMERICA INC</td>\n",
       "      <td>DC</td>\n",
       "      <td>G</td>\n",
       "      <td>2000 L ST NW STE 710</td>\n",
       "      <td>WASHINGTON</td>\n",
       "      <td>20036-4916</td>\n",
       "      <td>3.0</td>\n",
       "      <td>HE</td>\n",
       "      <td>HE</td>\n",
       "      <td>HE</td>\n",
       "      <td>G</td>\n",
       "      <td>4709711.0</td>\n",
       "    </tr>\n",
       "    <tr>\n",
       "      <th>378627</th>\n",
       "      <td>660426667</td>\n",
       "      <td>2018.0</td>\n",
       "      <td>SERVICIOS DE SALUD PRIMARIOS DE</td>\n",
       "      <td>PR</td>\n",
       "      <td>E</td>\n",
       "      <td>PO BOX 2045</td>\n",
       "      <td>BARCELONETA</td>\n",
       "      <td>00617-2045</td>\n",
       "      <td>3.0</td>\n",
       "      <td>HE</td>\n",
       "      <td>HE</td>\n",
       "      <td>HE</td>\n",
       "      <td>E</td>\n",
       "      <td>4716358.0</td>\n",
       "    </tr>\n",
       "    <tr>\n",
       "      <th>171317</th>\n",
       "      <td>521920603</td>\n",
       "      <td>2012.0</td>\n",
       "      <td>HOME CARE PARTNERS INC</td>\n",
       "      <td>DC</td>\n",
       "      <td>E</td>\n",
       "      <td>1234 MASSACHUSETTS AVENUE NW NO</td>\n",
       "      <td>WASHINGTON</td>\n",
       "      <td>20005-4526</td>\n",
       "      <td>3.0</td>\n",
       "      <td>HE</td>\n",
       "      <td>HE</td>\n",
       "      <td>HE</td>\n",
       "      <td>E</td>\n",
       "      <td>4718311.0</td>\n",
       "    </tr>\n",
       "  </tbody>\n",
       "</table>\n",
       "</div>"
      ],
      "text/plain": [
       "              EIN   FISYR                              NAME STATE NTEE1  \\\n",
       "338488  660430826  2018.0  CENTRO DE SERVICIOS PRIMARIOS DE    PR     E   \n",
       "338475  660352014  2017.0  HOSPITAL GENERAL DE CASTANER INC    PR     E   \n",
       "114095  431131436  2005.0   LUPUS FOUNDATION OF AMERICA INC    DC     G   \n",
       "378627  660426667  2018.0   SERVICIOS DE SALUD PRIMARIOS DE    PR     E   \n",
       "171317  521920603  2012.0            HOME CARE PARTNERS INC    DC     E   \n",
       "\n",
       "                                ADDRESS         CITY         ZIP  SUBSECCD  \\\n",
       "338488                       PO BOX 697     PATILLAS  00723-0697       3.0   \n",
       "338475                      PO BOX 1003     CASTANER  00631-1003       3.0   \n",
       "114095             2000 L ST NW STE 710   WASHINGTON  20036-4916       3.0   \n",
       "378627                      PO BOX 2045  BARCELONETA  00617-2045       3.0   \n",
       "171317  1234 MASSACHUSETTS AVENUE NW NO   WASHINGTON  20005-4526       3.0   \n",
       "\n",
       "       NTMAJ5 NTMAJ10 NTMAJ12 MAJGRPB       CONT  \n",
       "338488     HE      HE      HE       E  4671942.0  \n",
       "338475     HE      HE      EH      EH  4692288.0  \n",
       "114095     HE      HE      HE       G  4709711.0  \n",
       "378627     HE      HE      HE       E  4716358.0  \n",
       "171317     HE      HE      HE       E  4718311.0  "
      ]
     },
     "execution_count": 92,
     "metadata": {},
     "output_type": "execute_result"
    }
   ],
   "source": [
    "no_outliers.sort_values('CONT').tail()"
   ]
  },
  {
   "cell_type": "markdown",
   "id": "126b5f0b",
   "metadata": {},
   "source": [
    "Originally I all territories contained in the dataset, but opted remove foreign states since they greatly skewed the data (plus I think we're looking US economy?). Without foreign states, the max contributions (outliers removed) dipped by ~30M - the max contributions from the new filtered data (above) seem reasonable. Some of the organizations receive the majority of their contributions from government grants while others gain it mostly from direct public support (found from manually checking their 990 forms), so unless we can find data that breaks down this difference, there doesn't seem to be a clear way to differentiate which orgs are funded mainly by public donation/altruism."
   ]
  },
  {
   "cell_type": "code",
   "execution_count": null,
   "id": "b6ab96f0",
   "metadata": {},
   "outputs": [],
   "source": []
  }
 ],
 "metadata": {
  "kernelspec": {
   "display_name": "Python 3.8",
   "language": "python",
   "name": "python-3.8"
  },
  "language_info": {
   "codemirror_mode": {
    "name": "ipython",
    "version": 3
   },
   "file_extension": ".py",
   "mimetype": "text/x-python",
   "name": "python",
   "nbconvert_exporter": "python",
   "pygments_lexer": "ipython3",
   "version": "3.8.8"
  }
 },
 "nbformat": 4,
 "nbformat_minor": 5
}
