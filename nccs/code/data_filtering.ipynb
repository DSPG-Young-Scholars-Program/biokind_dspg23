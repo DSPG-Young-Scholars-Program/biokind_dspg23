{
 "cells": [
  {
   "cell_type": "markdown",
   "metadata": {},
   "source": [
    "Created: July 12, 2023\n",
    "\n",
    "Cleans and aggregates NCCS core data files on public charities for 2000-2019. Specific focus on health charities as categorized by NTEE major groups."
   ]
  },
  {
   "cell_type": "code",
   "execution_count": 20,
   "metadata": {},
   "outputs": [],
   "source": [
    "import pandas as pd\n",
    "import os\n",
    "\n",
    "# note: nccskey was dropped as an included col\n",
    "COLS = [\"EIN\", \"FISYR\", \"NAME\", \"STATE\", \"NTEE1\", \"ADDRESS\", \"CITY\", \"ZIP\", \"SUBSECCD\", \"NTMAJ5\", \"NTMAJ10\", \"NTMAJ12\", \"MAJGRPB\", \"CONT\",\n",
    "        \"DIRSUPESTIMATE\"]\n",
    "DIR = '../data/working/'  \n",
    "\n",
    "def clean(filename, year):\n",
    "    path = os.path.join(DIR, filename)\n",
    "    data = pd.read_csv(path, low_memory = False)\n",
    "\n",
    "    # for consistency across column names\n",
    "    data.columns = data.columns.str.upper()\n",
    "    if 'CONT' not in data.columns.tolist():\n",
    "        data = data.rename(columns = {'P1TCONT': 'CONT'})\n",
    "\n",
    "    # filter data\n",
    "    df = data[COLS if ('DIRSUPESTIMATE' in data.columns.tolist()) else COLS[:-1]]\n",
    "    \n",
    "    # TODO: only flter by ntmaj5?\n",
    "    # note: filtering out before 2000 and after 2019 since data is incomplete\n",
    "    df = df[(df['CONT'] > 0) & (df['SUBSECCD'] == 3) & (df['NTMAJ5'] ==  \"HE\") & (df['FISYR'] < 2020) \n",
    "            & (df['FISYR'] > 1999)]\n",
    "    \n",
    "    return df"
   ]
  },
  {
   "cell_type": "code",
   "execution_count": 21,
   "metadata": {
    "collapsed": true,
    "jupyter": {
     "outputs_hidden": true
    }
   },
   "outputs": [
    {
     "name": "stdout",
     "output_type": "stream",
     "text": [
      "2014\n",
      "2015\n",
      "2016\n",
      "2017\n",
      "2018\n",
      "2019\n"
     ]
    }
   ],
   "source": [
    "merged = None\n",
    "\n",
    "for year in range(2000, 2020):   \n",
    "    str_year = str(year)\n",
    "\n",
    "    # only looking at public charities\n",
    "    pc = clean('nccs.core' + str_year + 'pc.csv', year)\n",
    "    \n",
    "    # aggregate\n",
    "    merged = pd.concat([merged, pc]).reset_index(drop = True)\n",
    "\n",
    "merged = merged[merged['FISYR'] <= 2019]\n",
    "\n",
    "# data set across all years\n",
    "merged.to_csv(\"../data/distribution/merged_filtered.csv\", index=False)"
   ]
  },
  {
   "cell_type": "code",
   "execution_count": null,
   "metadata": {},
   "outputs": [],
   "source": []
  }
 ],
 "metadata": {
  "kernelspec": {
   "display_name": "Python 3.8",
   "language": "python",
   "name": "python-3.8"
  },
  "language_info": {
   "codemirror_mode": {
    "name": "ipython",
    "version": 3
   },
   "file_extension": ".py",
   "mimetype": "text/x-python",
   "name": "python",
   "nbconvert_exporter": "python",
   "pygments_lexer": "ipython3",
   "version": "3.8.8"
  }
 },
 "nbformat": 4,
 "nbformat_minor": 4
}
