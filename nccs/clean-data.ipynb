{
 "cells": [
  {
   "cell_type": "code",
   "execution_count": null,
   "metadata": {},
   "outputs": [],
   "source": [
    "!pip3 install geopandas"
   ]
  },
  {
   "attachments": {},
   "cell_type": "markdown",
   "metadata": {},
   "source": [
    "I have done it for the 2018 data, change the files for other years' data\n"
   ]
  },
  {
   "cell_type": "code",
   "execution_count": null,
   "metadata": {},
   "outputs": [],
   "source": [
    "import os\n",
    "import geopandas as gpd\n",
    "import pandas as pd\n",
    "import matplotlib.pyplot as plt\n",
    "\n",
    "DIR = \"./\"\n",
    "FILE_NAME = \"coreco.core2018pc.csv\"\n",
    "\n",
    "PATH = os.path.join(DIR, FILE_NAME)\n"
   ]
  },
  {
   "cell_type": "code",
   "execution_count": null,
   "metadata": {},
   "outputs": [],
   "source": [
    "cols_required = [\"EIN\", \"NCCSKEY\", \"FISYR\", \"NAME\", \"STATE\", \"NTEE1\", \"ADDRESS\", \"CITY\", \"ZIP\", \"SUBSECCD\", \"NTMAJ5\", \"NTMAJ10\", \"NTMAJ12\", \"MAJGRPB\", \"CONT\" ]\n",
    "\n",
    "data = pd.read_csv(PATH)\n",
    "\n",
    "    "
   ]
  },
  {
   "cell_type": "code",
   "execution_count": null,
   "metadata": {},
   "outputs": [],
   "source": [
    "data.head()"
   ]
  },
  {
   "cell_type": "code",
   "execution_count": null,
   "metadata": {},
   "outputs": [],
   "source": [
    "df = data[cols_required]\n",
    "\n"
   ]
  },
  {
   "cell_type": "code",
   "execution_count": null,
   "metadata": {},
   "outputs": [],
   "source": [
    "df = df[(df['NTEE1'] == 'E') & (df['SUBSECCD'] == 3) & (df['NTMAJ5'] ==  \"HE\") & (df['NTMAJ10'] ==  \"HE\") & df['NTMAJ12'].isin([\"EH\", \"HE\"]) & df[\"MAJGRPB\"].isin([\"E\", \"EH\", \"F\", \"G\", \"H\"])]\n",
    "\n",
    "\n",
    "df.to_csv(\"./final_datasets/nccs_2018_filtered.csv\")\n",
    "\n",
    "df.dtypes"
   ]
  },
  {
   "attachments": {},
   "cell_type": "markdown",
   "metadata": {},
   "source": [
    "Download the US Shapefiles from the internet or use the locally provided ones"
   ]
  },
  {
   "cell_type": "code",
   "execution_count": null,
   "metadata": {},
   "outputs": [],
   "source": [
    "shapefile_path = os.path.join(DIR, \"tl_2022_us_state\", \"tl_2022_us_state.shp\")\n",
    "\n",
    "map_df = gpd.read_file(shapefile_path)\n",
    "\n",
    "map_df = map_df[~map_df['STUSPS'].isin(['HI', 'AK'])]"
   ]
  },
  {
   "cell_type": "code",
   "execution_count": null,
   "metadata": {},
   "outputs": [],
   "source": [
    "merged_df = map_df.merge(df.head(10000), left_on='STUSPS', right_on='STATE')\n",
    "\n",
    "fig, ax = plt.subplots(figsize=(12, 8))\n",
    "\n",
    "ax.axis('off')\n",
    "\n",
    "\n",
    "merged_df.plot(column='CONT', cmap='Blues', linewidth=0.8, ax=ax, edgecolor='0.8', legend=True)\n",
    "\n",
    "\n",
    "plt.title('Contributions to the Charitable Organizations')\n",
    "\n",
    "\n",
    "plt.show()"
   ]
  }
 ],
 "metadata": {
  "language_info": {
   "name": "python"
  },
  "orig_nbformat": 4
 },
 "nbformat": 4,
 "nbformat_minor": 2
}
